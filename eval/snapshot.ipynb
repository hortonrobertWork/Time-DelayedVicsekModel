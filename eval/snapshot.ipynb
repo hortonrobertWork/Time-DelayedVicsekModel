{
 "cells": [
  {
   "cell_type": "markdown",
   "metadata": {},
   "source": [
    "# Visual Snapshot Notebook\n",
    "This notebook is for the creation of snapshots and animations of the system"
   ]
  },
  {
   "cell_type": "code",
   "execution_count": 7,
   "metadata": {},
   "outputs": [],
   "source": [
    "#import packages\n",
    "import os\n",
    "import freud as fd\n",
    "import glob\n",
    "import numpy as np\n",
    "import matplotlib.pyplot as plt\n",
    "import matplotlib.animation as anim\n",
    "import matplotlib.cm as cm\n",
    "# plt.rcParams.update({\n",
    "#     \"text.usetex\": True,\n",
    "#     \"font.family\": \"beramono\",\n",
    "#     \"font.size\"  : \"14.0\",\n",
    "#     \"figure.constrained_layout.use\" : True\n",
    "# })"
   ]
  },
  {
   "cell_type": "code",
   "execution_count": 8,
   "metadata": {},
   "outputs": [],
   "source": [
    "# This function accepts the delay value and will produce snapshots of the final configuration of the system for each noise value\n",
    "\n",
    "def snapshotCreator(delayFolder):\n",
    "\n",
    "    path = '../data/snapshot/delay_'+str(delayFolder)+'/'\n",
    "    positionData = sorted(glob.glob(path+\"*.txt\"))\n",
    "\n",
    "    for d in range(np.size(positionData)):\n",
    "        lines = np.loadtxt(positionData[d], dtype=str, max_rows=1, unpack=True)\n",
    "\n",
    "        fig, ax = plt.subplots(figsize=(5,5))\n",
    "        \n",
    "        agentNumber, xPosition, yPosition, angles = np.genfromtxt(positionData[d], unpack=\"true\",skip_header=50000)\n",
    "        \n",
    "        zPosition = np.zeros(np.size(agentNumber))\n",
    "        xPosition[:] -= 256.0/2.0\n",
    "        yPosition[:] -= 256.0/2.0\n",
    "        points = np.column_stack((xPosition,yPosition,zPosition))\n",
    "        \n",
    "        box = fd.Box.square(L=256)\n",
    "        aq = fd.AABBQuery(box, points)\n",
    "        aq.plot(s=0.0001, ax=ax, marker='o')\n",
    "        ax.axis('off')\n",
    "        \n",
    "        plt.savefig('../data/outputImages/snapshots/delay_'+str(delayFolder)+'/Noise={}_Delay=0.eps'.format(lines), format='eps')\n",
    "        plt.close('all')"
   ]
  },
  {
   "cell_type": "code",
   "execution_count": 11,
   "metadata": {},
   "outputs": [],
   "source": [
    "for delay in [0,1,3,5]:\n",
    "    snapshotCreator(delay)\n"
   ]
  }
 ],
 "metadata": {
  "kernelspec": {
   "display_name": "Python 3",
   "language": "python",
   "name": "python3"
  },
  "language_info": {
   "codemirror_mode": {
    "name": "ipython",
    "version": 3
   },
   "file_extension": ".py",
   "mimetype": "text/x-python",
   "name": "python",
   "nbconvert_exporter": "python",
   "pygments_lexer": "ipython3",
   "version": "3.10.12"
  },
  "orig_nbformat": 4
 },
 "nbformat": 4,
 "nbformat_minor": 2
}
